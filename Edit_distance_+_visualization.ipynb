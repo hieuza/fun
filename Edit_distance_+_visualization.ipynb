{
  "nbformat": 4,
  "nbformat_minor": 0,
  "metadata": {
    "colab": {
      "name": "Edit distance + visualization",
      "provenance": [],
      "collapsed_sections": [],
      "authorship_tag": "ABX9TyPei/C7J7Wk3JiG6aigtbs0",
      "include_colab_link": true
    },
    "kernelspec": {
      "name": "python3",
      "display_name": "Python 3"
    }
  },
  "cells": [
    {
      "cell_type": "markdown",
      "metadata": {
        "id": "view-in-github",
        "colab_type": "text"
      },
      "source": [
        "<a href=\"https://colab.research.google.com/github/hieuza/fun/blob/main/Edit_distance_%2B_visualization.ipynb\" target=\"_parent\"><img src=\"https://colab.research.google.com/assets/colab-badge.svg\" alt=\"Open In Colab\"/></a>"
      ]
    },
    {
      "cell_type": "code",
      "metadata": {
        "id": "9guB09LLUQes"
      },
      "source": [
        "import numpy as np\n",
        "import pandas as pd\n",
        "from typing import Tuple\n",
        "\n",
        "def min_edit_distance(\n",
        "    source: str, target: str, ins_cost: int = 1, del_cost: int = 1, \n",
        "    rep_cost: int = 1) -> Tuple[np.ndarray, int]:\n",
        "  nrows = len(source)\n",
        "  ncols = len(target) \n",
        "  D = np.zeros((nrows + 1, ncols + 1), dtype=int) \n",
        "\n",
        "  D[:, 0] = range(nrows + 1)\n",
        "  D[0, :] = range(ncols + 1)\n",
        "  for row in range(1, nrows + 1): \n",
        "    for col in range(1, ncols + 1):\n",
        "      real_rep_cost = rep_cost * (source[row - 1] != target[col - 1])\n",
        "      D[row,col] = min(\n",
        "          D[row - 1, col] + del_cost, \n",
        "          D[row, col - 1] + ins_cost, \n",
        "          D[row - 1, col - 1] + real_rep_cost)\n",
        "        \n",
        "  return D, D[nrows, ncols]"
      ],
      "execution_count": 1,
      "outputs": []
    },
    {
      "cell_type": "code",
      "metadata": {
        "colab": {
          "base_uri": "https://localhost:8080/"
        },
        "id": "cUTUYKKTV8M1",
        "outputId": "60c6fe2d-6ca4-4b04-b9cc-d2066f441061"
      },
      "source": [
        "source = 'cat'\n",
        "target = 'match'\n",
        "matrix, dist = min_edit_distance(source, target, 1, 1, 1)\n",
        "df = pd.DataFrame(matrix, index=list('#' + source), columns=list('#' + target))\n",
        "print(df)"
      ],
      "execution_count": 2,
      "outputs": [
        {
          "output_type": "stream",
          "text": [
            "   #  m  a  t  c  h\n",
            "#  0  1  2  3  4  5\n",
            "c  1  1  2  3  3  4\n",
            "a  2  2  1  2  3  4\n",
            "t  3  3  2  1  2  3\n"
          ],
          "name": "stdout"
        }
      ]
    },
    {
      "cell_type": "code",
      "metadata": {
        "colab": {
          "base_uri": "https://localhost:8080/"
        },
        "id": "Q5qQU0nNWaRm",
        "outputId": "8520a78e-249f-4d7a-e2ac-1bdda09988d3"
      },
      "source": [
        "def visualize_min_edit_distance(source: str, target: str, ins_cost: int, del_cost: int, rep_cost: int):\n",
        "  \"\"\"Visualize the transformation from a given source to a target.\"\"\"\n",
        "  D, _ = min_edit_distance(source, target, ins_cost, del_cost, rep_cost)\n",
        "  \n",
        "  r = len(source)\n",
        "  c = len(target)\n",
        "  print(f'Edit distance: {D[r][c]}')\n",
        "  ops = []\n",
        "  while r != 0 or c != 0:\n",
        "    is_ins = c > 0 and D[r, c] == D[r, c - 1] + ins_cost\n",
        "    is_del = r > 0 and D[r, c] == D[r - 1, c] + del_cost\n",
        "    r_cost = rep_cost * (r > 0 and c > 0 and source[r - 1] != target[c - 1])\n",
        "    is_rep = r > 0 and c > 0 and D[r, c] == D[r - 1, c - 1] + r_cost\n",
        "    assert is_ins or is_del or is_rep\n",
        "    op = ''\n",
        "    if is_ins:\n",
        "      op = ('I', c-1, target[c-1])\n",
        "      c -= 1\n",
        "    elif is_del:\n",
        "      op = ('D', r-1, source[r-1])\n",
        "      r -= 1\n",
        "    elif is_rep:\n",
        "      if r_cost > 0:\n",
        "        op = ('R', r-1, target[c-1])\n",
        "      c -= 1\n",
        "      r -= 1\n",
        "    if op:\n",
        "      ops.insert(0, op)\n",
        "\n",
        "  edit = source[:]\n",
        "  offset = 0\n",
        "  steps = np.arange(len(ops)) + 1\n",
        "  pre_edits = []\n",
        "  op_desc = []\n",
        "  edits = []\n",
        "  for step, op in enumerate(ops):\n",
        "    pre_edit = edit[:]\n",
        "    pos, char = op[1], op[2]\n",
        "    if op[0] == 'I':\n",
        "      edit = edit[:pos] + char + edit[pos:]\n",
        "      offset += 1\n",
        "    elif op[0] == 'D':\n",
        "      pos += offset\n",
        "      edit = edit[:pos] + edit[pos+1:]\n",
        "      offset -= 1\n",
        "    elif op[0] == 'R':\n",
        "      pos += offset\n",
        "      edit = edit[:pos] + char + edit[pos+1:]\n",
        "      \n",
        "    pre_edits.append(pre_edit)\n",
        "    op_desc.append(f'{op[0]},{pos},{char}')\n",
        "    edits.append(edit)\n",
        "    \n",
        "  df = pd.DataFrame([pre_edits, op_desc, edits], columns=steps, \n",
        "                    index=['[source]', '[op]', '[target]']).transpose()\n",
        "  print(df)\n",
        "\n",
        "source = 'zz_mode'\n",
        "target = 'code_y'\n",
        "visualize_min_edit_distance(source, target, 1, 1, 1)\n"
      ],
      "execution_count": 10,
      "outputs": [
        {
          "output_type": "stream",
          "text": [
            "Edit distance: 6\n",
            "  [source]   [op] [target]\n",
            "1  zz_mode  R,0,c  cz_mode\n",
            "2  cz_mode  D,1,z   c_mode\n",
            "3   c_mode  D,1,_    cmode\n",
            "4    cmode  D,1,m     code\n",
            "5     code  I,4,_    code_\n",
            "6    code_  I,5,y   code_y\n"
          ],
          "name": "stdout"
        }
      ]
    },
    {
      "cell_type": "code",
      "metadata": {
        "id": "9DXVKjb9ZQmo"
      },
      "source": [
        ""
      ],
      "execution_count": null,
      "outputs": []
    }
  ]
}