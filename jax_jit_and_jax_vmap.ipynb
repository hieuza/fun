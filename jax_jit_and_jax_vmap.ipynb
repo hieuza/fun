{
  "nbformat": 4,
  "nbformat_minor": 0,
  "metadata": {
    "colab": {
      "provenance": [],
      "gpuType": "T4",
      "authorship_tag": "ABX9TyNpbnwzCieMZL5fG9yDoO0c",
      "include_colab_link": true
    },
    "kernelspec": {
      "name": "python3",
      "display_name": "Python 3"
    },
    "language_info": {
      "name": "python"
    },
    "accelerator": "GPU"
  },
  "cells": [
    {
      "cell_type": "markdown",
      "metadata": {
        "id": "view-in-github",
        "colab_type": "text"
      },
      "source": [
        "<a href=\"https://colab.research.google.com/github/hieuza/fun/blob/main/jax_jit_and_jax_vmap.ipynb\" target=\"_parent\"><img src=\"https://colab.research.google.com/assets/colab-badge.svg\" alt=\"Open In Colab\"/></a>"
      ]
    },
    {
      "cell_type": "markdown",
      "source": [
        "Compare vmap, jit a vmap'ed and vmap a jit.\n",
        "\n",
        "Conclusion:\n",
        "jit a vmap'ed > vmap a jit'ed >> vmap >> Python loop\n",
        "\n",
        "See the plot below.\n",
        "Why jit a vmap'ed is fastest? Because the fixed batch-size and input argument shapes are complied. It must be re-compiled for different batch-size and may be sub-optimal if the compilation time is more than function computation time.\n",
        "\n",
        "Inspired by: https://jax.readthedocs.io/en/latest/jax-101/03-vectorization.html"
      ],
      "metadata": {
        "id": "cguQnpiXwLIt"
      }
    },
    {
      "cell_type": "code",
      "source": [
        "import seaborn as sbn\n",
        "import matplotlib.pyplot as plt\n",
        "%matplotlib inline\n",
        "time_us = {'loop': 33900, 'vmap': 9790, 'vmap_jit': 957, 'jit_vmap': 120}\n",
        "\n",
        "ax = sbn.barplot(x=list(time_us.keys()), y=list(time_us.values()))\n",
        "for idx, value in enumerate(time_us.values()):\n",
        "  ax.text(idx, value, f'{value} us', ha='center', va='bottom')\n",
        "\n",
        "plt.xlabel('order')\n",
        "plt.ylabel('time: us')\n",
        "plt.show()"
      ],
      "metadata": {
        "colab": {
          "base_uri": "https://localhost:8080/",
          "height": 450
        },
        "id": "qiTn86EAwVq4",
        "outputId": "ed3d7028-28db-4d38-f91b-bbbff37f8619"
      },
      "execution_count": 51,
      "outputs": [
        {
          "output_type": "display_data",
          "data": {
            "text/plain": [
              "<Figure size 640x480 with 1 Axes>"
            ],
            "image/png": "[encoded data removed]"
          },
          "metadata": {}
        }
      ]
    },
    {
      "cell_type": "markdown",
      "source": [
        "# Common data"
      ],
      "metadata": {
        "id": "aGvRi9_TwI4l"
      }
    },
    {
      "cell_type": "code",
      "source": [
        "import jax\n",
        "import jax.numpy as jnp\n",
        "\n",
        "x = jnp.arange(5, dtype=jnp.float32)\n",
        "w = jnp.array([2, 3, 4], dtype=jnp.float32)\n",
        "\n",
        "xs = jnp.vstack([x] * 5)"
      ],
      "metadata": {
        "id": "X4sEw85cuevR"
      },
      "execution_count": 40,
      "outputs": []
    },
    {
      "cell_type": "markdown",
      "source": [
        "# Loop"
      ],
      "metadata": {
        "id": "F0ctn0eCzmzQ"
      }
    },
    {
      "cell_type": "code",
      "source": [
        "def convolve(x, w):\n",
        "  # print('convolve', x)\n",
        "  output = []\n",
        "  for i in range(1, len(x)-1):\n",
        "    output.append(jnp.dot(x[i-1:i+2], w))\n",
        "  return jnp.array(output)\n",
        "\n",
        "# loop\n",
        "def loop_convolve(x, w):\n",
        "  result = []\n",
        "  for i in range(x.shape[0]):\n",
        "    result.append(convolve(x[i], w))\n",
        "  return jnp.vstack(result)\n",
        "\n",
        "%timeit -r10 -n100 loop_convolve(xs, w).block_until_ready()"
      ],
      "metadata": {
        "colab": {
          "base_uri": "https://localhost:8080/"
        },
        "id": "qD4Q7rWrzoeA",
        "outputId": "f155c8c3-3494-4ae0-a2ce-e5f40ecae3ef"
      },
      "execution_count": 44,
      "outputs": [
        {
          "output_type": "stream",
          "name": "stdout",
          "text": [
            "33.9 ms ± 3.52 ms per loop (mean ± std. dev. of 10 runs, 100 loops each)\n"
          ]
        }
      ]
    },
    {
      "cell_type": "markdown",
      "source": [
        "#Only vmap"
      ],
      "metadata": {
        "id": "foX8hmNAuOZD"
      }
    },
    {
      "cell_type": "code",
      "execution_count": 41,
      "metadata": {
        "colab": {
          "base_uri": "https://localhost:8080/"
        },
        "id": "ITZJ_JXruJHk",
        "outputId": "9ca42538-b36a-4a29-8e28-dff7098ab95f"
      },
      "outputs": [
        {
          "output_type": "stream",
          "name": "stdout",
          "text": [
            "11.2 ms ± 2.82 ms per loop (mean ± std. dev. of 10 runs, 100 loops each)\n"
          ]
        }
      ],
      "source": [
        "def convolve(x, w):\n",
        "  # print('convolve', x)\n",
        "  output = []\n",
        "  for i in range(1, len(x)-1):\n",
        "    output.append(jnp.dot(x[i-1:i+2], w))\n",
        "  return jnp.array(output)\n",
        "\n",
        "# no jit\n",
        "v_convolve = jax.vmap(convolve, in_axes=[0, None])\n",
        "v_convolve(xs, w)\n",
        "%timeit -r10 -n100 v_convolve(xs, w).block_until_ready()"
      ]
    },
    {
      "cell_type": "markdown",
      "source": [
        "# vmap a jit'ed"
      ],
      "metadata": {
        "id": "ouRbiaoVvLR_"
      }
    },
    {
      "cell_type": "code",
      "source": [
        "@jax.jit\n",
        "def convolve(x, w):\n",
        "  # print('convolve', x)\n",
        "  output = []\n",
        "  for i in range(1, len(x)-1):\n",
        "    output.append(jnp.dot(x[i-1:i+2], w))\n",
        "  return jnp.array(output)\n",
        "\n",
        "convolve(x, w)\n",
        "# vmap a jit'ed\n",
        "vj_convolve = jax.vmap(convolve, in_axes=[0, None])\n",
        "vj_convolve(xs, w)\n",
        "%timeit -r10 -n100 vj_convolve(xs, w).block_until_ready()"
      ],
      "metadata": {
        "colab": {
          "base_uri": "https://localhost:8080/"
        },
        "id": "7l4fFogYu_RN",
        "outputId": "a68baec5-9f6f-4036-aca3-1ca9d1ffa2d7"
      },
      "execution_count": 42,
      "outputs": [
        {
          "output_type": "stream",
          "name": "stdout",
          "text": [
            "1.22 ms ± 153 µs per loop (mean ± std. dev. of 10 runs, 100 loops each)\n"
          ]
        }
      ]
    },
    {
      "cell_type": "markdown",
      "source": [
        "#jit a vmap'ed"
      ],
      "metadata": {
        "id": "UwjEufHAveX9"
      }
    },
    {
      "cell_type": "code",
      "source": [
        "def convolve(x, w):\n",
        "  # print('convolve', x)\n",
        "  output = []\n",
        "  for i in range(1, len(x)-1):\n",
        "    output.append(jnp.dot(x[i-1:i+2], w))\n",
        "  return jnp.array(output)\n",
        "\n",
        "# no jit\n",
        "jv_convolve = jax.jit(jax.vmap(convolve, in_axes=[0, None]))\n",
        "jv_convolve(xs, w)\n",
        "%timeit -r10 -n100 jv_convolve(xs, w).block_until_ready()"
      ],
      "metadata": {
        "colab": {
          "base_uri": "https://localhost:8080/"
        },
        "id": "j8IXc9SEvgcf",
        "outputId": "a209b929-6cb3-4cf9-e0ce-fdb06d339f9b"
      },
      "execution_count": 43,
      "outputs": [
        {
          "output_type": "stream",
          "name": "stdout",
          "text": [
            "206 µs ± 37.4 µs per loop (mean ± std. dev. of 10 runs, 100 loops each)\n"
          ]
        }
      ]
    }
  ]
}
