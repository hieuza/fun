{
  "nbformat": 4,
  "nbformat_minor": 0,
  "metadata": {
    "colab": {
      "provenance": [],
      "authorship_tag": "ABX9TyN8/WkshGbYBhkrDAB44xqw",
      "include_colab_link": true
    },
    "kernelspec": {
      "name": "python3",
      "display_name": "Python 3"
    },
    "language_info": {
      "name": "python"
    }
  },
  "cells": [
    {
      "cell_type": "markdown",
      "metadata": {
        "id": "view-in-github",
        "colab_type": "text"
      },
      "source": [
        "<a href=\"https://colab.research.google.com/github/hieuza/fun/blob/main/jax_pmap_and_jax_lax_all_gather.ipynb\" target=\"_parent\"><img src=\"https://colab.research.google.com/assets/colab-badge.svg\" alt=\"Open In Colab\"/></a>"
      ]
    },
    {
      "cell_type": "markdown",
      "source": [
        "Explore jax.pmap and jax.lax.all_gather functions.\n",
        "\n",
        "Inspired by https://jax.readthedocs.io/en/latest/_autosummary/jax.lax.all_gather.html"
      ],
      "metadata": {
        "id": "m7OBPII3EvTK"
      }
    },
    {
      "cell_type": "code",
      "execution_count": 4,
      "metadata": {
        "id": "Udf7O1ZiEL-g"
      },
      "outputs": [],
      "source": [
        "# Understand jax.lax.pmap\n",
        "import os\n",
        "os.environ['XLA_FLAGS'] = '--xla_force_host_platform_device_count=8'\n",
        "import jax\n",
        "import numpy as np\n"
      ]
    },
    {
      "cell_type": "markdown",
      "source": [
        "# jax.pmap + jax.lax.all_gather"
      ],
      "metadata": {
        "id": "55CbXHLnGCb3"
      }
    },
    {
      "cell_type": "code",
      "source": [
        "x = np.arange(4)\n",
        "def f(x):\n",
        "  return jax.lax.all_gather(x, 'i')\n",
        "\n",
        "def g(x):\n",
        "  return jax.lax.all_gather(x, 'i') + x\n",
        "\n",
        "fy = jax.pmap(f, axis_name='i')(x)\n",
        "print('-'*80)\n",
        "print(fy)\n",
        "\n",
        "gy = jax.pmap(g, axis_name='i')(x)\n",
        "print('-'*80)\n",
        "print(gy)\n"
      ],
      "metadata": {
        "colab": {
          "base_uri": "https://localhost:8080/"
        },
        "id": "5QbTKdsdEsRk",
        "outputId": "32337a40-4998-47cd-a111-4924bdf6b1da"
      },
      "execution_count": 8,
      "outputs": [
        {
          "output_type": "stream",
          "name": "stdout",
          "text": [
            "--------------------------------------------------------------------------------\n",
            "[[0 1 2 3]\n",
            " [0 1 2 3]\n",
            " [0 1 2 3]\n",
            " [0 1 2 3]]\n",
            "--------------------------------------------------------------------------------\n",
            "[[0 1 2 3]\n",
            " [1 2 3 4]\n",
            " [2 3 4 5]\n",
            " [3 4 5 6]]\n"
          ]
        }
      ]
    },
    {
      "cell_type": "markdown",
      "source": [
        "Explain the result `fy`\n",
        "\n",
        "```python\n",
        "[[0 1 2 3]   # x == 0 on this device, all_gather == [0 1 2 3] on each device\n",
        " [0 1 2 3]   # ...\n",
        " [0 1 2 3]   # x = 2 on this device, all_gather == [0 1 2 3] ...\n",
        " [0 1 2 3]]\n",
        "```\n",
        "\n",
        "Explain the result `gy`\n",
        "```python\n",
        "[[0 1 2 3]   # == [0 1 2 3] + 0; [0 1 2 3] is the result of all_gather in each device; 0 is specific value of x on this device.\n",
        " [1 2 3 4]   # == [0 1 2 3] + 1\n",
        " [2 3 4 5]   # == [0 1 2 3] + 2\n",
        " [3 4 5 6]]  # == [0 1 2 3] + 3\n",
        " ```"
      ],
      "metadata": {
        "id": "qo-C0ffNF7A4"
      }
    },
    {
      "cell_type": "markdown",
      "source": [
        "# jax.lax.all_gather(..., axis_index_groups=)"
      ],
      "metadata": {
        "id": "1ZNPz7XhHeNf"
      }
    },
    {
      "cell_type": "code",
      "source": [
        "\n",
        "x = np.arange(16).reshape(4, 4)\n",
        "print('x', '-'*80)\n",
        "print(x)\n",
        "\n",
        "\n",
        "def f(x):\n",
        "  return jax.lax.all_gather(x, 'i') + x\n",
        "\n",
        "def g(x):\n",
        "  return jax.lax.all_gather(x, 'i', axis_index_groups=[[0, 2], [3, 1]]) + x\n",
        "\n",
        "fy = jax.pmap(f, axis_name='i')(x)\n",
        "print('fy', '-'*80)\n",
        "print(fy)\n",
        "\n",
        "gy = jax.pmap(g, axis_name='i')(x)\n",
        "print('gy', '-'*80)\n",
        "print(gy)\n"
      ],
      "metadata": {
        "colab": {
          "base_uri": "https://localhost:8080/"
        },
        "id": "zypyTo75Em6A",
        "outputId": "59446b1c-c84e-4b22-fc48-29a72eb82011"
      },
      "execution_count": 13,
      "outputs": [
        {
          "output_type": "stream",
          "name": "stdout",
          "text": [
            "x --------------------------------------------------------------------------------\n",
            "[[ 0  1  2  3]\n",
            " [ 4  5  6  7]\n",
            " [ 8  9 10 11]\n",
            " [12 13 14 15]]\n",
            "fy --------------------------------------------------------------------------------\n",
            "[[[ 0  2  4  6]\n",
            "  [ 4  6  8 10]\n",
            "  [ 8 10 12 14]\n",
            "  [12 14 16 18]]\n",
            "\n",
            " [[ 4  6  8 10]\n",
            "  [ 8 10 12 14]\n",
            "  [12 14 16 18]\n",
            "  [16 18 20 22]]\n",
            "\n",
            " [[ 8 10 12 14]\n",
            "  [12 14 16 18]\n",
            "  [16 18 20 22]\n",
            "  [20 22 24 26]]\n",
            "\n",
            " [[12 14 16 18]\n",
            "  [16 18 20 22]\n",
            "  [20 22 24 26]\n",
            "  [24 26 28 30]]]\n",
            "gy --------------------------------------------------------------------------------\n",
            "[[[ 0  2  4  6]\n",
            "  [ 8 10 12 14]]\n",
            "\n",
            " [[16 18 20 22]\n",
            "  [ 8 10 12 14]]\n",
            "\n",
            " [[ 8 10 12 14]\n",
            "  [16 18 20 22]]\n",
            "\n",
            " [[24 26 28 30]\n",
            "  [16 18 20 22]]]\n"
          ]
        }
      ]
    },
    {
      "cell_type": "markdown",
      "source": [
        "Explain the result `fy`\n",
        "\n",
        "```python\n",
        "[\n",
        " # x == [0 1 2 3] on this device; all_gather == [[0 1 2 3]...[12 13 14 15]] on all devices.\n",
        " # this is the result of x + all_gather on this device.\n",
        " [[ 0  2  4  6]\n",
        "  [ 4  6  8 10]\n",
        "  [ 8 10 12 14]\n",
        "  [12 14 16 18]]\n",
        "\n",
        " # Similarly, x == [4 5 6 7] on this device..., same gather as above.\n",
        " [[ 4  6  8 10]\n",
        "  [ 8 10 12 14]\n",
        "  [12 14 16 18]\n",
        "  [16 18 20 22]]\n",
        "\n",
        " # And so on, x == [8 9 10 11] on this device...\n",
        " [[ 8 10 12 14]\n",
        "  [12 14 16 18]\n",
        "  [16 18 20 22]\n",
        "  [20 22 24 26]]\n",
        "\n",
        " [[12 14 16 18]\n",
        "  [16 18 20 22]\n",
        "  [20 22 24 26]\n",
        "  [24 26 28 30]]]\n",
        "  ```\n",
        "\n",
        "  Explan the result `gy` with `axis_index_groups=[[0, 2], [3, 1]]`\n",
        "\n",
        "```python\n",
        "[\n",
        " # x == [0 1 2 3] on this device.\n",
        " # all_gather == [[0 1 2 3] [8 9 10 11]] because of the groups [0 2].\n",
        " # x + all_gather == ...\n",
        " [[ 0  2  4  6]\n",
        "  [ 8 10 12 14]]\n",
        "\n",
        " # x == [4 5 6 7]\n",
        " # all_gather == [[12 13 14 15] [4 5 6 7]] because of groups [3 1].\n",
        " # x + all_gather == ...\n",
        " [[16 18 20 22]\n",
        "  [ 8 10 12 14]]\n",
        "\n",
        " # x == [8 9 10 11]\n",
        " # all_gather == [[0 1 2 3] [8 9 10 11]]\n",
        " # and so on\n",
        " [[ 8 10 12 14]\n",
        "  [16 18 20 22]]\n",
        "\n",
        " # x == [12 13 14 15]\n",
        " # all_gather == [[12 13 14 15] [4 5 6 7]]\n",
        " [[24 26 28 30]\n",
        "  [16 18 20 22]]]\n",
        "```\n",
        "\n"
      ],
      "metadata": {
        "id": "KfQCOfznIgLt"
      }
    }
  ]
}